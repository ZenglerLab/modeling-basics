{
 "cells": [
  {
   "cell_type": "markdown",
   "metadata": {},
   "source": [
    "### cobrame"
   ]
  },
  {
   "cell_type": "code",
   "execution_count": 4,
   "metadata": {},
   "outputs": [],
   "source": [
    "import cobra\n",
    "import numpy as np\n",
    "import matplotlib.pyplot\n",
    "import cobrame\n",
    "import pickle"
   ]
  },
  {
   "cell_type": "code",
   "execution_count": 12,
   "metadata": {},
   "outputs": [],
   "source": [
    "with open('./iJL1678b.pickle', 'rb') as f:\n",
    "    model = pickle.load(f)"
   ]
  },
  {
   "cell_type": "code",
   "execution_count": 13,
   "metadata": {
    "scrolled": true
   },
   "outputs": [
    {
     "data": {
      "text/plain": [
       "['__add__',\n",
       " '__class__',\n",
       " '__delattr__',\n",
       " '__dict__',\n",
       " '__dir__',\n",
       " '__doc__',\n",
       " '__eq__',\n",
       " '__format__',\n",
       " '__ge__',\n",
       " '__getattribute__',\n",
       " '__getstate__',\n",
       " '__gt__',\n",
       " '__hash__',\n",
       " '__iadd__',\n",
       " '__init__',\n",
       " '__init_subclass__',\n",
       " '__le__',\n",
       " '__lt__',\n",
       " '__module__',\n",
       " '__ne__',\n",
       " '__new__',\n",
       " '__reduce__',\n",
       " '__reduce_ex__',\n",
       " '__repr__',\n",
       " '__setattr__',\n",
       " '__setstate__',\n",
       " '__sizeof__',\n",
       " '__str__',\n",
       " '__subclasshook__',\n",
       " '__weakref__',\n",
       " '_biomass',\n",
       " '_biomass_dilution',\n",
       " '_gam',\n",
       " '_ngam',\n",
       " '_trimmed',\n",
       " '_trimmed_genes',\n",
       " '_trimmed_reactions',\n",
       " '_unmodeled_protein_fraction',\n",
       " 'add_biomass_constraints_to_model',\n",
       " 'add_metabolites',\n",
       " 'add_reaction',\n",
       " 'add_reactions',\n",
       " 'annotation',\n",
       " 'change_objective',\n",
       " 'compartments',\n",
       " 'complex_data',\n",
       " 'compute_solution_error',\n",
       " 'construct_attribute_vector',\n",
       " 'construct_s_matrix',\n",
       " 'copy',\n",
       " 'description',\n",
       " 'gam',\n",
       " 'generic_data',\n",
       " 'genes',\n",
       " 'get_metabolic_flux',\n",
       " 'get_transcription_flux',\n",
       " 'get_translation_flux',\n",
       " 'global_info',\n",
       " 'id',\n",
       " 'media_compositions',\n",
       " 'metabolites',\n",
       " 'name',\n",
       " 'ngam',\n",
       " 'notes',\n",
       " 'objective',\n",
       " 'optimize',\n",
       " 'posttranslation_data',\n",
       " 'process_data',\n",
       " 'prune',\n",
       " 'reactions',\n",
       " 'remove_genes_from_model',\n",
       " 'remove_reactions',\n",
       " 'repair',\n",
       " 'set_sasa_keffs',\n",
       " 'solution',\n",
       " 'stoichiometric_data',\n",
       " 'subreaction_data',\n",
       " 'summary',\n",
       " 'tRNA_data',\n",
       " 'to_array_based_model',\n",
       " 'transcription_data',\n",
       " 'translation_data',\n",
       " 'translocation_data',\n",
       " 'unmodeled_protein',\n",
       " 'unmodeled_protein_biomass',\n",
       " 'unmodeled_protein_fraction',\n",
       " 'update']"
      ]
     },
     "execution_count": 13,
     "metadata": {},
     "output_type": "execute_result"
    }
   ],
   "source": [
    "dir(model)"
   ]
  },
  {
   "cell_type": "code",
   "execution_count": 20,
   "metadata": {
    "scrolled": true
   },
   "outputs": [
    {
     "data": {
      "text/plain": [
       "(12654, 7030, 0)"
      ]
     },
     "execution_count": 20,
     "metadata": {},
     "output_type": "execute_result"
    }
   ],
   "source": [
    "len(model.reactions),len(model.metabolites),len(model.genes)"
   ]
  },
  {
   "cell_type": "code",
   "execution_count": 18,
   "metadata": {
    "scrolled": true
   },
   "outputs": [
    {
     "name": "stdout",
     "output_type": "stream",
     "text": [
      "iter\tmuopt    \ta     \tb     \tmu1       \tstat1\n",
      "Finished compiling expressions in 410.658851 seconds\n",
      "Finished substituting S,lb,ub in 16.104735 seconds\n",
      "Finished makeME_LP in 1.978056 seconds\n",
      "Getting MINOS parameters from ME_NLP...\n",
      "1 0.25 0.25 0.5 0.25 optimal\n",
      "Finished substituting S,lb,ub in 16.062745 seconds\n",
      "Finished makeME_LP in 2.114817 seconds\n",
      "Getting MINOS parameters from ME_NLP...\n",
      "2 0.375 0.375 0.5 0.375 optimal\n",
      "Finished substituting S,lb,ub in 15.857386 seconds\n",
      "Finished makeME_LP in 1.963438 seconds\n",
      "Getting MINOS parameters from ME_NLP...\n",
      "3 0.4375 0.4375 0.5 0.4375 optimal\n",
      "Finished substituting S,lb,ub in 15.842233 seconds\n",
      "Finished makeME_LP in 2.096019 seconds\n",
      "Getting MINOS parameters from ME_NLP...\n",
      "4 0.46875 0.46875 0.5 0.46875 optimal\n",
      "Finished substituting S,lb,ub in 16.155661 seconds\n",
      "Finished makeME_LP in 1.986721 seconds\n",
      "Getting MINOS parameters from ME_NLP...\n",
      "5 0.484375 0.484375 0.5 0.484375 optimal\n",
      "Finished substituting S,lb,ub in 15.939611 seconds\n",
      "Finished makeME_LP in 1.999138 seconds\n",
      "Getting MINOS parameters from ME_NLP...\n",
      "6 0.4921875 0.4921875 0.5 0.4921875 optimal\n",
      "Finished substituting S,lb,ub in 15.879534 seconds\n",
      "Finished makeME_LP in 1.980789 seconds\n",
      "Getting MINOS parameters from ME_NLP...\n",
      "7 0.49609375 0.49609375 0.5 0.49609375 optimal\n",
      "Finished substituting S,lb,ub in 15.930456 seconds\n",
      "Finished makeME_LP in 1.998847 seconds\n",
      "Getting MINOS parameters from ME_NLP...\n",
      "8 0.498046875 0.498046875 0.5 0.498046875 optimal\n",
      "Finished substituting S,lb,ub in 15.947506 seconds\n",
      "Finished makeME_LP in 1.987255 seconds\n",
      "Getting MINOS parameters from ME_NLP...\n",
      "9 0.4990234375 0.4990234375 0.5 0.4990234375 optimal\n",
      "Finished substituting S,lb,ub in 15.906525 seconds\n",
      "Finished makeME_LP in 1.993894 seconds\n",
      "Getting MINOS parameters from ME_NLP...\n",
      "10 0.49951171875 0.49951171875 0.5 0.49951171875 optimal\n",
      "Finished substituting S,lb,ub in 15.865017 seconds\n",
      "Finished makeME_LP in 1.995700 seconds\n",
      "Getting MINOS parameters from ME_NLP...\n",
      "11 0.499755859375 0.499755859375 0.5 0.499755859375 optimal\n",
      "Finished substituting S,lb,ub in 15.944653 seconds\n",
      "Finished makeME_LP in 1.991631 seconds\n",
      "Getting MINOS parameters from ME_NLP...\n",
      "12 0.4998779296875 0.4998779296875 0.5 0.4998779296875 optimal\n",
      "Finished substituting S,lb,ub in 15.894042 seconds\n",
      "Finished makeME_LP in 2.100835 seconds\n",
      "Getting MINOS parameters from ME_NLP...\n",
      "13 0.49993896484375 0.49993896484375 0.5 0.49993896484375 optimal\n",
      "Finished substituting S,lb,ub in 15.906178 seconds\n",
      "Finished makeME_LP in 1.984117 seconds\n",
      "Getting MINOS parameters from ME_NLP...\n",
      "14 0.499969482421875 0.499969482421875 0.5 0.499969482421875 optimal\n",
      "Finished substituting S,lb,ub in 15.978745 seconds\n",
      "Finished makeME_LP in 1.997150 seconds\n",
      "Getting MINOS parameters from ME_NLP...\n",
      "15 0.4999847412109375 0.4999847412109375 0.5 0.4999847412109375 optimal\n",
      "Finished substituting S,lb,ub in 15.985005 seconds\n",
      "Finished makeME_LP in 1.987960 seconds\n",
      "Getting MINOS parameters from ME_NLP...\n",
      "16 0.49999237060546875 0.49999237060546875 0.5 0.49999237060546875 optimal\n",
      "Finished substituting S,lb,ub in 15.956428 seconds\n",
      "Finished makeME_LP in 1.978017 seconds\n",
      "Getting MINOS parameters from ME_NLP...\n",
      "17 0.4999961853027344 0.4999961853027344 0.5 0.4999961853027344 optimal\n",
      "Finished substituting S,lb,ub in 15.900315 seconds\n",
      "Finished makeME_LP in 1.985589 seconds\n",
      "Getting MINOS parameters from ME_NLP...\n",
      "18 0.4999980926513672 0.4999980926513672 0.5 0.4999980926513672 optimal\n",
      "Finished substituting S,lb,ub in 15.815559 seconds\n",
      "Finished makeME_LP in 1.984707 seconds\n",
      "Getting MINOS parameters from ME_NLP...\n",
      "19 0.4999990463256836 0.4999990463256836 0.5 0.4999990463256836 optimal\n",
      "Bisection done in 981.092 seconds\n"
     ]
    }
   ],
   "source": [
    "hf.solve_me_model(model, max_mu = 0.5, min_mu = .05, using_soplex=False,\n",
    "                   precision = 1e-6,verbosity=2,mu_fix=False)"
   ]
  },
  {
   "cell_type": "code",
   "execution_count": 21,
   "metadata": {},
   "outputs": [
    {
     "data": {
      "text/plain": [
       "<Solution 0.50 at 0x7fd6af1b3908>"
      ]
     },
     "execution_count": 21,
     "metadata": {},
     "output_type": "execute_result"
    }
   ],
   "source": [
    "model.solution"
   ]
  },
  {
   "cell_type": "code",
   "execution_count": 15,
   "metadata": {},
   "outputs": [],
   "source": [
    "import bacillusme.util.helper_functions as hf"
   ]
  },
  {
   "cell_type": "code",
   "execution_count": null,
   "metadata": {},
   "outputs": [],
   "source": []
  },
  {
   "cell_type": "code",
   "execution_count": null,
   "metadata": {},
   "outputs": [],
   "source": []
  }
 ],
 "metadata": {
  "kernelspec": {
   "display_name": "ME_env",
   "language": "python",
   "name": "me_env"
  },
  "language_info": {
   "codemirror_mode": {
    "name": "ipython",
    "version": 3
   },
   "file_extension": ".py",
   "mimetype": "text/x-python",
   "name": "python",
   "nbconvert_exporter": "python",
   "pygments_lexer": "ipython3",
   "version": "3.6.3"
  }
 },
 "nbformat": 4,
 "nbformat_minor": 4
}
