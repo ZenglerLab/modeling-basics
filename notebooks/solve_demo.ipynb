{
 "cells": [
  {
   "cell_type": "code",
   "execution_count": 1,
   "metadata": {},
   "outputs": [],
   "source": [
    "import qminospy\n",
    "from qminospy.me2 import ME_NLP\n",
    "import cobra\n",
    "import cobrame\n",
    "import pickle"
   ]
  },
  {
   "cell_type": "code",
   "execution_count": 2,
   "metadata": {},
   "outputs": [],
   "source": [
    "with open('./iJL1678b.pickle', 'rb') as f:\n",
    "    ecome = pickle.load(f)"
   ]
  },
  {
   "cell_type": "code",
   "execution_count": 3,
   "metadata": {},
   "outputs": [],
   "source": [
    "def solve_me_model(me, max_mu=1., precision=1e-6, min_mu=0, using_soplex=True,\n",
    "                  compiled_expressions=None, verbosity = 2, mu_fix = False,\n",
    "                  growth_key='mu'):\n",
    "    from qminospy.me1 import ME_NLP1\n",
    "    ## If fixed growth rate, solve as LP\n",
    "    if mu_fix:\n",
    "        me_nlp = ME_NLP1(me)\n",
    "        me_nlp.solvelp(mu_fix)\n",
    "    else:\n",
    "        ## \n",
    "        if using_soplex:\n",
    "            from cobrame.solve.algorithms import binary_search\n",
    "            binary_search(me, min_mu=min_mu, max_mu=max_mu, debug=True, mu_accuracy=precision,\n",
    "                compiled_expressions=compiled_expressions)\n",
    "        else:\n",
    "            # The object containing solveME methods--composite that uses a ME model object \n",
    "            me_nlp = ME_NLP1(me, growth_key=growth_key)\n",
    "            # Use bisection for now (until the NLP formulation is worked out)\n",
    "            muopt, hs, xopt, cache = me_nlp.bisectmu(precision=precision, mumax=max_mu, verbosity=verbosity)\n",
    "            try:\n",
    "                me.solution.f = me.solution.x_dict['biomass_dilution']\n",
    "            except:\n",
    "                pass\n"
   ]
  },
  {
   "cell_type": "code",
   "execution_count": 4,
   "metadata": {},
   "outputs": [
    {
     "name": "stdout",
     "output_type": "stream",
     "text": [
      "iter\tmuopt    \ta     \tb     \tmu1       \tstat1\n",
      "Finished compiling expressions in 184.921541 seconds\n",
      "Finished substituting S,lb,ub in 7.591007 seconds\n",
      "Finished makeME_LP in 0.738432 seconds\n",
      "Getting MINOS parameters from ME_NLP...\n",
      "1 0.25 0.25 0.5 0.25 optimal\n",
      "Finished substituting S,lb,ub in 6.946550 seconds\n",
      "Finished makeME_LP in 0.731145 seconds\n",
      "Getting MINOS parameters from ME_NLP...\n",
      "2 0.375 0.375 0.5 0.375 optimal\n",
      "Finished substituting S,lb,ub in 6.940192 seconds\n",
      "Finished makeME_LP in 0.783660 seconds\n",
      "Getting MINOS parameters from ME_NLP...\n",
      "3 0.4375 0.4375 0.5 0.4375 optimal\n",
      "Finished substituting S,lb,ub in 6.912104 seconds\n",
      "Finished makeME_LP in 0.745691 seconds\n",
      "Getting MINOS parameters from ME_NLP...\n",
      "4 0.46875 0.46875 0.5 0.46875 optimal\n",
      "Finished substituting S,lb,ub in 6.456955 seconds\n",
      "Finished makeME_LP in 0.739054 seconds\n",
      "Getting MINOS parameters from ME_NLP...\n",
      "5 0.484375 0.484375 0.5 0.484375 optimal\n",
      "Finished substituting S,lb,ub in 6.928456 seconds\n",
      "Finished makeME_LP in 0.779335 seconds\n",
      "Getting MINOS parameters from ME_NLP...\n",
      "6 0.4921875 0.4921875 0.5 0.4921875 optimal\n",
      "Bisection done in 533.113 seconds\n"
     ]
    }
   ],
   "source": [
    "solve_me_model(ecome, max_mu = 0.5, min_mu = .05, using_soplex=False, precision = 1e-2)"
   ]
  },
  {
   "cell_type": "code",
   "execution_count": null,
   "metadata": {},
   "outputs": [],
   "source": []
  }
 ],
 "metadata": {
  "kernelspec": {
   "display_name": "Python 3 - cobra 0.5.11 (venv)",
   "language": "python",
   "name": "python3-cobra-0.5.4"
  },
  "language_info": {
   "codemirror_mode": {
    "name": "ipython",
    "version": 3
   },
   "file_extension": ".py",
   "mimetype": "text/x-python",
   "name": "python",
   "nbconvert_exporter": "python",
   "pygments_lexer": "ipython3",
   "version": "3.8.5"
  }
 },
 "nbformat": 4,
 "nbformat_minor": 4
}
