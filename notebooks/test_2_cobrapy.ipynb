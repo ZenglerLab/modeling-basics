{
 "cells": [
  {
   "cell_type": "markdown",
   "metadata": {},
   "source": [
    "### cobrapy"
   ]
  },
  {
   "cell_type": "code",
   "execution_count": 1,
   "metadata": {},
   "outputs": [],
   "source": [
    "import cobra\n",
    "import multiprocessing"
   ]
  },
  {
   "cell_type": "code",
   "execution_count": 2,
   "metadata": {},
   "outputs": [],
   "source": [
    "model = cobra.io.load_json_model('iJO1366.json')"
   ]
  },
  {
   "cell_type": "code",
   "execution_count": 3,
   "metadata": {},
   "outputs": [
    {
     "name": "stdout",
     "output_type": "stream",
     "text": [
      "Academic license - for non-commercial use only - expires 2021-06-05\n",
      "Using license file /home/glucksfall/gurobi.lic\n"
     ]
    },
    {
     "data": {
      "text/plain": [
       "0.9823718127269798"
      ]
     },
     "execution_count": 3,
     "metadata": {},
     "output_type": "execute_result"
    }
   ],
   "source": [
    "model.optimize()\n",
    "model.solution.f"
   ]
  },
  {
   "cell_type": "code",
   "execution_count": 35,
   "metadata": {},
   "outputs": [
    {
     "name": "stdout",
     "output_type": "stream",
     "text": [
      "-0.0\n",
      "-0.0\n",
      "0.9823718127269798\n",
      "-0.0\n",
      "-0.0\n",
      "0.9823718127269754\n",
      "0.9823718127269833\n",
      "-0.0\n",
      "0.9823718127269747\n",
      "0.9823718127269784\n",
      "\n",
      "CPU times: user 2.45 s, sys: 11.9 ms, total: 2.47 s\n",
      "Wall time: 2.46 s\n"
     ]
    }
   ],
   "source": [
    "%%time\n",
    "for idx in range(len(model.reactions))[0:10]:\n",
    "    tmp = model.copy()\n",
    "    tmp.reactions[idx].lower_bound = 0\n",
    "    tmp.reactions[idx].upper_bound = 0\n",
    "    \n",
    "    tmp.optimize()\n",
    "    print(tmp.solution.f)\n",
    "print()"
   ]
  },
  {
   "cell_type": "code",
   "execution_count": 39,
   "metadata": {},
   "outputs": [],
   "source": [
    "def simulate(idx):\n",
    "    tmp = model.copy()\n",
    "    tmp.reactions[idx].lower_bound = 0\n",
    "    tmp.reactions[idx].upper_bound = 0\n",
    "    \n",
    "    tmp.optimize()\n",
    "    \n",
    "    return tmp.solution.f"
   ]
  },
  {
   "cell_type": "code",
   "execution_count": 43,
   "metadata": {},
   "outputs": [
    {
     "name": "stdout",
     "output_type": "stream",
     "text": [
      "[-0.0, -0.0, 0.9823718127269798, -0.0, -0.0, 0.9823718127269754, 0.9823718127269833, -0.0, 0.9823718127269747, 0.9823718127269784]\n",
      "\n",
      "CPU times: user 30.2 ms, sys: 85.4 ms, total: 116 ms\n",
      "Wall time: 1.24 s\n"
     ]
    }
   ],
   "source": [
    "%%time\n",
    "with multiprocessing.Pool(processes=multiprocessing.cpu_count()-1) as pool:\n",
    "    p = pool.map(simulate, range(len(model.reactions))[0:10])\n",
    "print(p)\n",
    "print()"
   ]
  },
  {
   "cell_type": "code",
   "execution_count": null,
   "metadata": {},
   "outputs": [],
   "source": []
  }
 ],
 "metadata": {
  "kernelspec": {
   "display_name": "Python 3 - cobra 0.5.11 (venv)",
   "language": "python",
   "name": "python3-cobra-0.5.4"
  },
  "language_info": {
   "codemirror_mode": {
    "name": "ipython",
    "version": 3
   },
   "file_extension": ".py",
   "mimetype": "text/x-python",
   "name": "python",
   "nbconvert_exporter": "python",
   "pygments_lexer": "ipython3",
   "version": "3.8.5"
  }
 },
 "nbformat": 4,
 "nbformat_minor": 4
}
