{
 "cells": [
  {
   "cell_type": "markdown",
   "metadata": {},
   "source": [
    "### cobrame"
   ]
  },
  {
   "cell_type": "code",
   "execution_count": 4,
   "metadata": {},
   "outputs": [],
   "source": [
    "import cobra\n",
    "import numpy as np\n",
    "import matplotlib.pyplot\n",
    "import cobrame\n",
    "import pickle\n",
    "import bacillusme.util.helper_functions as hf\n",
    "import pandas as pd"
   ]
  },
  {
   "cell_type": "code",
   "execution_count": 5,
   "metadata": {},
   "outputs": [],
   "source": [
    "model = cobra.io.load_json_model('iJO1366.json')\n",
    "with open('./iJL1678b.pickle', 'rb') as f:\n",
    "    me_model = pickle.load(f)"
   ]
  },
  {
   "cell_type": "code",
   "execution_count": 16,
   "metadata": {
    "scrolled": true
   },
   "outputs": [
    {
     "data": {
      "text/plain": [
       "['__add__',\n",
       " '__class__',\n",
       " '__delattr__',\n",
       " '__dict__',\n",
       " '__dir__',\n",
       " '__doc__',\n",
       " '__eq__',\n",
       " '__format__',\n",
       " '__ge__',\n",
       " '__getattribute__',\n",
       " '__getstate__',\n",
       " '__gt__',\n",
       " '__hash__',\n",
       " '__iadd__',\n",
       " '__init__',\n",
       " '__init_subclass__',\n",
       " '__le__',\n",
       " '__lt__',\n",
       " '__module__',\n",
       " '__ne__',\n",
       " '__new__',\n",
       " '__reduce__',\n",
       " '__reduce_ex__',\n",
       " '__repr__',\n",
       " '__setattr__',\n",
       " '__setstate__',\n",
       " '__sizeof__',\n",
       " '__str__',\n",
       " '__subclasshook__',\n",
       " '__weakref__',\n",
       " '_biomass',\n",
       " '_biomass_dilution',\n",
       " '_gam',\n",
       " '_ngam',\n",
       " '_trimmed',\n",
       " '_trimmed_genes',\n",
       " '_trimmed_reactions',\n",
       " '_unmodeled_protein_fraction',\n",
       " 'add_biomass_constraints_to_model',\n",
       " 'add_metabolites',\n",
       " 'add_reaction',\n",
       " 'add_reactions',\n",
       " 'annotation',\n",
       " 'change_objective',\n",
       " 'compartments',\n",
       " 'complex_data',\n",
       " 'compute_solution_error',\n",
       " 'construct_attribute_vector',\n",
       " 'construct_s_matrix',\n",
       " 'copy',\n",
       " 'description',\n",
       " 'gam',\n",
       " 'generic_data',\n",
       " 'genes',\n",
       " 'get_metabolic_flux',\n",
       " 'get_transcription_flux',\n",
       " 'get_translation_flux',\n",
       " 'global_info',\n",
       " 'id',\n",
       " 'media_compositions',\n",
       " 'metabolites',\n",
       " 'name',\n",
       " 'ngam',\n",
       " 'notes',\n",
       " 'objective',\n",
       " 'optimize',\n",
       " 'posttranslation_data',\n",
       " 'process_data',\n",
       " 'prune',\n",
       " 'reactions',\n",
       " 'remove_genes_from_model',\n",
       " 'remove_reactions',\n",
       " 'repair',\n",
       " 'set_sasa_keffs',\n",
       " 'solution',\n",
       " 'stoichiometric_data',\n",
       " 'subreaction_data',\n",
       " 'summary',\n",
       " 'tRNA_data',\n",
       " 'to_array_based_model',\n",
       " 'transcription_data',\n",
       " 'translation_data',\n",
       " 'translocation_data',\n",
       " 'unmodeled_protein',\n",
       " 'unmodeled_protein_biomass',\n",
       " 'unmodeled_protein_fraction',\n",
       " 'update']"
      ]
     },
     "execution_count": 16,
     "metadata": {},
     "output_type": "execute_result"
    }
   ],
   "source": [
    "dir(me_model)"
   ]
  },
  {
   "cell_type": "markdown",
   "metadata": {},
   "source": [
    "### Properties"
   ]
  },
  {
   "cell_type": "code",
   "execution_count": 6,
   "metadata": {},
   "outputs": [],
   "source": [
    "def get_breakdown(me,field):\n",
    "    count = {}\n",
    "    for instance in getattr(me,field):\n",
    "        instance_type = instance.__class__.__name__\n",
    "        if instance_type not in count.keys():\n",
    "            count[instance_type] = 0\n",
    "        count[instance_type] += 1\n",
    "    return pd.DataFrame.from_dict({'count':count})"
   ]
  },
  {
   "cell_type": "code",
   "execution_count": 17,
   "metadata": {},
   "outputs": [
    {
     "data": {
      "text/plain": [
       "<matplotlib.axes._subplots.AxesSubplot at 0x7f63acb378d0>"
      ]
     },
     "execution_count": 17,
     "metadata": {},
     "output_type": "execute_result"
    },
    {
     "data": {
      "image/png": "[encoded data removed]",
      "text/plain": [
       "<Figure size 432x288 with 1 Axes>"
      ]
     },
     "metadata": {
      "needs_background": "light"
     },
     "output_type": "display_data"
    }
   ],
   "source": [
    "get_breakdown(me_model,'metabolites').sort_values(by='count').plot.bar()"
   ]
  },
  {
   "cell_type": "code",
   "execution_count": 18,
   "metadata": {},
   "outputs": [
    {
     "data": {
      "text/plain": [
       "<matplotlib.axes._subplots.AxesSubplot at 0x7f63ac899400>"
      ]
     },
     "execution_count": 18,
     "metadata": {},
     "output_type": "execute_result"
    },
    {
     "data": {
      "image/png": "[encoded data removed]",
      "text/plain": [
       "<Figure size 432x288 with 1 Axes>"
      ]
     },
     "metadata": {
      "needs_background": "light"
     },
     "output_type": "display_data"
    }
   ],
   "source": [
    "get_breakdown(me_model,'reactions').sort_values(by='count').plot.bar()"
   ]
  },
  {
   "cell_type": "code",
   "execution_count": 20,
   "metadata": {
    "scrolled": true
   },
   "outputs": [
    {
     "data": {
      "text/plain": [
       "(12654, 7030, 0)"
      ]
     },
     "execution_count": 20,
     "metadata": {},
     "output_type": "execute_result"
    }
   ],
   "source": [
    "len(me_model.reactions),len(me_model.metabolites),len(me_model.genes)"
   ]
  },
  {
   "cell_type": "code",
   "execution_count": null,
   "metadata": {
    "scrolled": true
   },
   "outputs": [],
   "source": [
    "hf.solve_me_model(me_model, max_mu = 0.5, min_mu = .05, using_soplex=False,\n",
    "                   precision = 1e-6, verbosity=2,mu_fix=False)"
   ]
  },
  {
   "cell_type": "code",
   "execution_count": null,
   "metadata": {},
   "outputs": [],
   "source": [
    "me_dict = me_model.get_metabolic_flux()\n",
    "m_dict = model.solution.x_dict\n",
    "\n",
    "for i in m_dict:\n",
    "    plt.plot(m_dict[i],me_dict[i],'o')\n"
   ]
  },
  {
   "cell_type": "markdown",
   "metadata": {},
   "source": [
    "### Reactions"
   ]
  },
  {
   "cell_type": "code",
   "execution_count": 2,
   "metadata": {},
   "outputs": [],
   "source": [
    "from cobrame.core.reaction import *"
   ]
  },
  {
   "cell_type": "markdown",
   "metadata": {},
   "source": [
    "#### MetabolicReaction"
   ]
  },
  {
   "cell_type": "code",
   "execution_count": 9,
   "metadata": {},
   "outputs": [
    {
     "data": {
      "text/plain": [
       "'12dgr120_p --> 12dgr120_c'"
      ]
     },
     "execution_count": 9,
     "metadata": {},
     "output_type": "execute_result"
    }
   ],
   "source": [
    "model.reactions.get_by_id('DHPPDA2').reaction"
   ]
  },
  {
   "cell_type": "code",
   "execution_count": 14,
   "metadata": {},
   "outputs": [
    {
     "data": {
      "text/plain": [
       "'25drapp_c + h2o_c + h_c <=> 5apru_c + -0.00677702747944926*mu CPLX0-7659 + nh4_c'"
      ]
     },
     "execution_count": 14,
     "metadata": {},
     "output_type": "execute_result"
    }
   ],
   "source": [
    "next((r for r in me_model.reactions if 'DHPPDA2' in r.id), None).reaction"
   ]
  },
  {
   "cell_type": "code",
   "execution_count": 11,
   "metadata": {},
   "outputs": [
    {
     "data": {
      "text/plain": [
       "'atp_c + h2o_c --> adp_c + h_c + pi_c'"
      ]
     },
     "execution_count": 11,
     "metadata": {},
     "output_type": "execute_result"
    }
   ],
   "source": [
    "me_model.reactions.ATPM.reaction"
   ]
  },
  {
   "cell_type": "markdown",
   "metadata": {},
   "source": [
    "#### Formation of commplexes: ComplexFormation,TranslationReaction,TranscriptionReaction"
   ]
  },
  {
   "cell_type": "code",
   "execution_count": 20,
   "metadata": {},
   "outputs": [
    {
     "name": "stdout",
     "output_type": "stream",
     "text": [
      "DHPPDA2_FWD_CPLX0-7659 25drapp_c + h2o_c + h_c <=> 5apru_c + -0.00677702747944926*mu CPLX0-7659 + nh4_c <class 'cobrame.core.reaction.MetabolicReaction'> \n",
      "\n",
      "APRAUR_FWD_CPLX0-7659 5apru_c + h_c + nadph_c <=> 5aprbu_c + -0.00677702747944926*mu CPLX0-7659 + nadp_c <class 'cobrame.core.reaction.MetabolicReaction'> \n",
      "\n",
      "formation_CPLX0-7659 2.0 protein_b0414 --> CPLX0-7659 <class 'cobrame.core.reaction.ComplexFormation'> \n",
      "\n"
     ]
    }
   ],
   "source": [
    "for r in me_model.metabolites.get_by_id('CPLX0-7659').reactions:\n",
    "    print(r.id,r.reaction,type(r),'\\n')"
   ]
  },
  {
   "cell_type": "code",
   "execution_count": 21,
   "metadata": {},
   "outputs": [
    {
     "name": "stdout",
     "output_type": "stream",
     "text": [
      "translation_b0414 10fthf_c + 38 ala__L_c + 25 arg__L_c + 7 asn__L_c + 17 asp__L_c + 6 cys__L_c + 11.0 generic_tRNA_AAA_lys__L_c + 3.0 generic_tRNA_AAC_asn__L_c + 2.0 generic_tRNA_AAG_lys__L_c + 4.0 generic_tRNA_AAU_asn__L_c + generic_tRNA_ACA_thr__L_c + 6.0 generic_tRNA_ACC_thr__L_c + 10.0 generic_tRNA_ACG_thr__L_c + 2.0 generic_tRNA_ACU_thr__L_c + 9.0 generic_tRNA_AGC_ser__L_c + 2.0 generic_tRNA_AGU_ser__L_c + 2.0 generic_tRNA_AUA_ile__L_c + 4.0 generic_tRNA_AUC_ile__L_c + 9.0 generic_tRNA_AUG_met__L_c + 11.0 generic_tRNA_AUU_ile__L_c + 14.0 generic_tRNA_CAA_gln__L_c + 3.0 generic_tRNA_CAC_his__L_c + 13.0 generic_tRNA_CAG_gln__L_c + 10.0 generic_tRNA_CAU_his__L_c + 5.0 generic_tRNA_CCA_pro__L_c + 5.0 generic_tRNA_CCC_pro__L_c + 8.0 generic_tRNA_CCG_pro__L_c + 4.0 generic_tRNA_CCU_pro__L_c + generic_tRNA_CGA_arg__L_c + 7.0 generic_tRNA_CGC_arg__L_c + 3.0 generic_tRNA_CGG_arg__L_c + 14.0 generic_tRNA_CGU_arg__L_c + 3.0 generic_tRNA_CUA_leu__L_c + 6.0 generic_tRNA_CUC_leu__L_c + 15.0 generic_tRNA_CUG_leu__L_c + 4.0 generic_tRNA_CUU_leu__L_c + 14.0 generic_tRNA_GAA_glu__L_c + 5.0 generic_tRNA_GAC_asp__L_c + 7.0 generic_tRNA_GAG_glu__L_c + 12.0 generic_tRNA_GAU_asp__L_c + 5.0 generic_tRNA_GCA_ala__L_c + 12.0 generic_tRNA_GCC_ala__L_c + 17.0 generic_tRNA_GCG_ala__L_c + 4.0 generic_tRNA_GCU_ala__L_c + 3.0 generic_tRNA_GGA_gly_c + 12.0 generic_tRNA_GGC_gly_c + 4.0 generic_tRNA_GGG_gly_c + 11.0 generic_tRNA_GGU_gly_c + 6.0 generic_tRNA_GUA_val__L_c + 9.0 generic_tRNA_GUC_val__L_c + 9.0 generic_tRNA_GUG_val__L_c + 3.0 generic_tRNA_GUU_val__L_c + generic_tRNA_START_met__L_c + 3.0 generic_tRNA_UAC_tyr__L_c + 5.0 generic_tRNA_UAU_tyr__L_c + 3.0 generic_tRNA_UCG_ser__L_c + 2.0 generic_tRNA_UCU_ser__L_c + 4.0 generic_tRNA_UGC_cys__L_c + 5.0 generic_tRNA_UGG_trp__L_c + 2.0 generic_tRNA_UGU_cys__L_c + 8.0 generic_tRNA_UUA_leu__L_c + 2.0 generic_tRNA_UUC_phe__L_c + 4.0 generic_tRNA_UUG_leu__L_c + 4.0 generic_tRNA_UUU_phe__L_c + 27 gln__L_c + 21 glu__L_c + 30 gly_c + 734.0 gtp_c + 13 his__L_c + 17 ile__L_c + 40 leu__L_c + 13 lys__L_c + 10 met__L_c + 6 phe__L_c + 22 pro__L_c + 16 ser__L_c + 19 thr__L_c + 5 trp__L_c + 8 tyr__L_c + 27 val__L_c --> -2.72438972852433e-7*mu Def_mono_mod_1:fe2 + -1.80324164444648e-7*mu Fmt_mono_mod_mg2_mod_k + -0.00156410256410256*mu FusA_mono + -4.27350427350427e-6*mu InfA_mono + -4.45382843794892e-6*mu InfB_mono + -4.27350427350427e-6*mu InfC_mono + -1.63370183870619e-7*mu PrfB_mono + -4.27350427350427e-6*mu PrfC_mono + -0.000498399634202103*mu - 0.000195123456790123 - 0.00598079561042524*(mu + 0.3915)/mu RNA_b0414 + -2.55589556001079e-8*mu - 1.00063311174422e-8 RNA_degradosome + -2.62130898398882e-7*mu Rrf_mono + -0.00156410256410256*mu Tsf_mono + 1.64920438957476*(mu + 0.3915)/mu adp_c + 366.0 + 1.41744855967078*(mu + 0.3915)/mu amp_c + -366.0 - 1.64920438957476*(mu + 0.3915)/mu atp_c + 1.92581618655693*(mu + 0.3915)/mu cmp_c + for_c + 734.0 gdp_c + -0.00156410256410256*mu generic_Tuf + 1.72844993141289*(mu + 0.3915)/mu gmp_c + -735.0 - 1.64920438957476*(mu + 0.3915)/mu h2o_c + 1100.0 + 1.64920438957476*(mu + 0.3915)/mu h_c + -2.11313615041844*(mu + 0.3915)/mu mRNA_biomass + 734.0 + 1.64920438957476*(mu + 0.3915)/mu pi_c + 366.0 ppi_c + protein_b0414 + 40.33886742 protein_biomass + -0.0052615401085876*mu - 0.00205989295251204 ribosome + thf_c + 1.53108367626886*(mu + 0.3915)/mu ump_c <class 'cobrame.core.reaction.TranslationReaction'> \n",
      "\n",
      "formation_CPLX0-7659 2.0 protein_b0414 --> CPLX0-7659 <class 'cobrame.core.reaction.ComplexFormation'> \n",
      "\n"
     ]
    }
   ],
   "source": [
    "for r in me_model.metabolites.get_by_id('protein_b0414').reactions:\n",
    "    print(r.id,r.reaction,type(r),'\\n')"
   ]
  },
  {
   "cell_type": "markdown",
   "metadata": {},
   "source": [
    "#### tRNAChargingReaction"
   ]
  },
  {
   "cell_type": "code",
   "execution_count": 27,
   "metadata": {},
   "outputs": [
    {
     "data": {
      "text/plain": [
       "' --> 0.000116266666666667*mu + 4.55184e-5 5mta_c + -4.27350427350427e-6*mu*(0.000116266666666667*mu + 1.0000455184) IleS_mono_mod_2:zn2 + -0.000116266666666667*mu - 4.55184e-5 RNA_b0202 + -4.27350427350427e-6*mu*(0.000116266666666667*mu + 4.55184e-5) TrmA_mono + -4.27350427350427e-6*mu*(0.000116266666666667*mu + 4.55184e-5) TruB_mono + -4.27350427350427e-6*mu*(0.000116266666666667*mu + 4.55184e-5) YggH_mono + -4.27350427350427e-6*mu*(0.000116266666666667*mu + 4.55184e-5) YqcB_mono + -4.27350427350427e-6*mu*(0.000116266666666667*mu + 4.55184e-5) YrdC_mono + 0.000232533333333333*mu + 9.10368e-5 ahcys_c + -0.0003488*mu - 0.0001365552 amet_c + 0.000116266666666667*mu + 4.55184e-5 amp_c + -0.000116266666666667*mu - 4.55184e-5 atp_c + -8.54700854700855e-6*mu*(0.000116266666666667*mu + 4.55184e-5) generic_Dus + generic_tRNA_AUC_ile__L_c + 0.000116266666666667*mu + 4.55184e-5 h2o_c + 0.000232533333333333*mu + 9.10368e-5 h_c + -0.000116266666666667*mu - 4.55184e-5 hco3_c + -0.000116266666666667*mu - 4.55184e-5 ile__L_c + 0.000232533333333333*mu + 9.10368e-5 nadp_c + -0.000232533333333333*mu - 9.10368e-5 nadph_c + 0.000116266666666667*mu + 4.55184e-5 ppi_c + -0.000116266666666667*mu - 4.55184e-5 thr__L_c'"
      ]
     },
     "execution_count": 27,
     "metadata": {},
     "output_type": "execute_result"
    }
   ],
   "source": [
    "next((r for r in me_model.reactions if isinstance(r,tRNAChargingReaction)), None).reaction"
   ]
  },
  {
   "cell_type": "markdown",
   "metadata": {},
   "source": [
    "#### PostTranslationReaction"
   ]
  },
  {
   "cell_type": "code",
   "execution_count": 28,
   "metadata": {},
   "outputs": [
    {
     "data": {
      "text/plain": [
       "'gtp_c + h2o_c + protein_b0007 --> -0.00661111111111111*mu SRP-CPLX + -0.00661111111111111*mu Sec-CPLX + -0.00661111111111111*mu YidC_MONOMER + gdp_c + h_c + pi_c + protein_b0007_Inner_Membrane'"
      ]
     },
     "execution_count": 28,
     "metadata": {},
     "output_type": "execute_result"
    }
   ],
   "source": [
    "next((r for r in me_model.reactions if isinstance(r,PostTranslationReaction)), None).reaction"
   ]
  },
  {
   "cell_type": "code",
   "execution_count": null,
   "metadata": {},
   "outputs": [],
   "source": []
  },
  {
   "cell_type": "code",
   "execution_count": null,
   "metadata": {},
   "outputs": [],
   "source": []
  }
 ],
 "metadata": {
  "kernelspec": {
   "display_name": "ME_env",
   "language": "python",
   "name": "me_env"
  },
  "language_info": {
   "codemirror_mode": {
    "name": "ipython",
    "version": 3
   },
   "file_extension": ".py",
   "mimetype": "text/x-python",
   "name": "python",
   "nbconvert_exporter": "python",
   "pygments_lexer": "ipython3",
   "version": "3.6.3"
  }
 },
 "nbformat": 4,
 "nbformat_minor": 4
}
