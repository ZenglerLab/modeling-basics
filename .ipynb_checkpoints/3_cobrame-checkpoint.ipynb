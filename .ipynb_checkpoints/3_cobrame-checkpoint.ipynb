{
 "cells": [
  {
   "cell_type": "markdown",
   "metadata": {},
   "source": [
    "### cobrame"
   ]
  },
  {
   "cell_type": "code",
   "execution_count": 2,
   "metadata": {},
   "outputs": [],
   "source": [
    "import cobra\n",
    "import numpy as np\n",
    "import matplotlib.pyplot\n",
    "import cobrame\n",
    "import pickle\n",
    "import bacillusme.util.helper_functions as hf"
   ]
  },
  {
   "cell_type": "code",
   "execution_count": 3,
   "metadata": {},
   "outputs": [],
   "source": [
    "with open('./iJL1678b.pickle', 'rb') as f:\n",
    "    model = pickle.load(f)"
   ]
  },
  {
   "cell_type": "code",
   "execution_count": 4,
   "metadata": {
    "scrolled": true
   },
   "outputs": [
    {
     "data": {
      "text/plain": [
       "['__add__',\n",
       " '__class__',\n",
       " '__delattr__',\n",
       " '__dict__',\n",
       " '__dir__',\n",
       " '__doc__',\n",
       " '__eq__',\n",
       " '__format__',\n",
       " '__ge__',\n",
       " '__getattribute__',\n",
       " '__getstate__',\n",
       " '__gt__',\n",
       " '__hash__',\n",
       " '__iadd__',\n",
       " '__init__',\n",
       " '__init_subclass__',\n",
       " '__le__',\n",
       " '__lt__',\n",
       " '__module__',\n",
       " '__ne__',\n",
       " '__new__',\n",
       " '__reduce__',\n",
       " '__reduce_ex__',\n",
       " '__repr__',\n",
       " '__setattr__',\n",
       " '__setstate__',\n",
       " '__sizeof__',\n",
       " '__str__',\n",
       " '__subclasshook__',\n",
       " '__weakref__',\n",
       " '_biomass',\n",
       " '_biomass_dilution',\n",
       " '_gam',\n",
       " '_ngam',\n",
       " '_trimmed',\n",
       " '_trimmed_genes',\n",
       " '_trimmed_reactions',\n",
       " '_unmodeled_protein_fraction',\n",
       " 'add_biomass_constraints_to_model',\n",
       " 'add_metabolites',\n",
       " 'add_reaction',\n",
       " 'add_reactions',\n",
       " 'annotation',\n",
       " 'change_objective',\n",
       " 'compartments',\n",
       " 'complex_data',\n",
       " 'compute_solution_error',\n",
       " 'construct_attribute_vector',\n",
       " 'construct_s_matrix',\n",
       " 'copy',\n",
       " 'description',\n",
       " 'gam',\n",
       " 'generic_data',\n",
       " 'genes',\n",
       " 'get_metabolic_flux',\n",
       " 'get_transcription_flux',\n",
       " 'get_translation_flux',\n",
       " 'global_info',\n",
       " 'id',\n",
       " 'media_compositions',\n",
       " 'metabolites',\n",
       " 'name',\n",
       " 'ngam',\n",
       " 'notes',\n",
       " 'objective',\n",
       " 'optimize',\n",
       " 'posttranslation_data',\n",
       " 'process_data',\n",
       " 'prune',\n",
       " 'reactions',\n",
       " 'remove_genes_from_model',\n",
       " 'remove_reactions',\n",
       " 'repair',\n",
       " 'set_sasa_keffs',\n",
       " 'solution',\n",
       " 'stoichiometric_data',\n",
       " 'subreaction_data',\n",
       " 'summary',\n",
       " 'tRNA_data',\n",
       " 'to_array_based_model',\n",
       " 'transcription_data',\n",
       " 'translation_data',\n",
       " 'translocation_data',\n",
       " 'unmodeled_protein',\n",
       " 'unmodeled_protein_biomass',\n",
       " 'unmodeled_protein_fraction',\n",
       " 'update']"
      ]
     },
     "execution_count": 4,
     "metadata": {},
     "output_type": "execute_result"
    }
   ],
   "source": [
    "dir(model)"
   ]
  },
  {
   "cell_type": "code",
   "execution_count": 5,
   "metadata": {
    "scrolled": true
   },
   "outputs": [
    {
     "data": {
      "text/plain": [
       "(12654, 7030, 0)"
      ]
     },
     "execution_count": 5,
     "metadata": {},
     "output_type": "execute_result"
    }
   ],
   "source": [
    "len(model.reactions),len(model.metabolites),len(model.genes)"
   ]
  },
  {
   "cell_type": "code",
   "execution_count": 6,
   "metadata": {
    "scrolled": true
   },
   "outputs": [
    {
     "name": "stdout",
     "output_type": "stream",
     "text": [
      "iter\tmuopt    \ta     \tb     \tmu1       \tstat1\n"
     ]
    },
    {
     "name": "stderr",
     "output_type": "stream",
     "text": [
      "\n",
      "KeyboardInterrupt\n",
      "\n"
     ]
    }
   ],
   "source": [
    "hf.solve_me_model(model, max_mu = 0.5, min_mu = .05, using_soplex=False,\n",
    "                   precision = 1e-6,verbosity=2,mu_fix=False)"
   ]
  },
  {
   "cell_type": "code",
   "execution_count": 21,
   "metadata": {},
   "outputs": [
    {
     "data": {
      "text/plain": [
       "<Solution 0.50 at 0x7fd6af1b3908>"
      ]
     },
     "execution_count": 21,
     "metadata": {},
     "output_type": "execute_result"
    }
   ],
   "source": [
    "model.solution"
   ]
  },
  {
   "cell_type": "code",
   "execution_count": 15,
   "metadata": {},
   "outputs": [],
   "source": [
    "import bacillusme.util.helper_functions as hf"
   ]
  },
  {
   "cell_type": "code",
   "execution_count": null,
   "metadata": {},
   "outputs": [],
   "source": []
  },
  {
   "cell_type": "code",
   "execution_count": null,
   "metadata": {},
   "outputs": [],
   "source": []
  }
 ],
 "metadata": {
  "kernelspec": {
   "display_name": "ME_env",
   "language": "python",
   "name": "me_env"
  },
  "language_info": {
   "codemirror_mode": {
    "name": "ipython",
    "version": 3
   },
   "file_extension": ".py",
   "mimetype": "text/x-python",
   "name": "python",
   "nbconvert_exporter": "python",
   "pygments_lexer": "ipython3",
   "version": "3.6.3"
  }
 },
 "nbformat": 4,
 "nbformat_minor": 4
}
